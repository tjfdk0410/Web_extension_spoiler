{
 "cells": [
  {
   "cell_type": "code",
   "execution_count": 15,
   "metadata": {},
   "outputs": [],
   "source": [
    "from mpl_toolkits.mplot3d import Axes3D\n",
    "from sklearn.preprocessing import StandardScaler\n",
    "import matplotlib.pyplot as plt # plotting\n",
    "import numpy as np # linear algebra\n",
    "import os # accessing directory structure\n",
    "import pandas as pd # data processing, CSV file I/O (e.g. pd.read_csv)\n",
    "PATH = os.getcwd() + \"/mvdataset\"\n",
    "#print(os.listdir(PATH))\n",
    "df_reviews = pd.read_json(PATH+'/IMDB_reviews.json/IMDB_reviews.json', lines=True).sample(frac=1).reset_index(drop=True)"
   ]
  },
  {
   "cell_type": "code",
   "execution_count": 16,
   "metadata": {},
   "outputs": [],
   "source": [
    "is_spoiler = df_reviews.is_spoiler\n",
    "review_text = df_reviews.review_text"
   ]
  },
  {
   "cell_type": "code",
   "execution_count": 17,
   "metadata": {},
   "outputs": [],
   "source": [
    "from keras.preprocessing.text import Tokenizer\n",
    "\n",
    "def remove_values_from_list(the_list, val):\n",
    "   return [value for value in the_list if value != val]\n",
    "\n",
    "max_words = 10000\n",
    "tokenizer = Tokenizer(num_words=max_words)\n",
    "tokenizer.fit_on_texts(review_text)"
   ]
  },
  {
   "cell_type": "code",
   "execution_count": 104,
   "metadata": {},
   "outputs": [],
   "source": [
    "sequences = tokenizer.texts_to_sequences(review_text)"
   ]
  },
  {
   "cell_type": "code",
   "execution_count": 105,
   "metadata": {},
   "outputs": [],
   "source": [
    "all_datas = [remove_values_from_list(a,None) for a in sequences]"
   ]
  },
  {
   "cell_type": "code",
   "execution_count": 106,
   "metadata": {},
   "outputs": [],
   "source": [
    "all_labels = [1 if(bool) else 0 for bool in is_spoiler]"
   ]
  },
  {
   "cell_type": "code",
   "execution_count": 107,
   "metadata": {},
   "outputs": [],
   "source": [
    "train_data = all_datas[:500000]\n",
    "train_labels = all_labels[:500000]\n",
    "\n",
    "test_data = all_datas[500000:]\n",
    "test_labels = all_labels[500000:]"
   ]
  },
  {
   "cell_type": "code",
   "execution_count": 12,
   "metadata": {},
   "outputs": [],
   "source": [
    "import matplotlib.pyplot as plt\n",
    "\n",
    "from keras import models\n",
    "from keras import layers\n",
    "model = models.Sequential()\n",
    "model.add(layers.Dense(32, activation='relu', input_shape=(10000,)))\n",
    "model.add(layers.Dense(32, activation='relu'))\n",
    "model.add(layers.Dense(1, activation='sigmoid'))"
   ]
  },
  {
   "cell_type": "code",
   "execution_count": 13,
   "metadata": {},
   "outputs": [],
   "source": [
    "import numpy as np\n",
    "def vectorize_sequences(sequences, dimension=10000):\n",
    "    # 크기가 (len(sequences), dimension))이고 모든 원소가 0인 행렬을 만듭니다\n",
    "    results = np.zeros((len(sequences), dimension))\n",
    "    for i, sequence in enumerate(sequences):\n",
    "        results[i, sequence] = 1.  # results[i]에서 특정 인덱스의 위치를 1로 만듭니다\n",
    "    return results"
   ]
  },
  {
   "cell_type": "code",
   "execution_count": 74,
   "metadata": {},
   "outputs": [
    {
     "ename": "MemoryError",
     "evalue": "Unable to allocate 37.3 GiB for an array with shape (500000, 10000) and data type float64",
     "output_type": "error",
     "traceback": [
      "\u001b[1;31m---------------------------------------------------------------------------\u001b[0m",
      "\u001b[1;31mMemoryError\u001b[0m                               Traceback (most recent call last)",
      "\u001b[1;32m<ipython-input-74-1454a3d763bc>\u001b[0m in \u001b[0;36m<module>\u001b[1;34m\u001b[0m\n\u001b[0;32m      1\u001b[0m \u001b[1;31m# 훈련 데이터를 벡터로 변환합니다\u001b[0m\u001b[1;33m\u001b[0m\u001b[1;33m\u001b[0m\u001b[1;33m\u001b[0m\u001b[0m\n\u001b[1;32m----> 2\u001b[1;33m \u001b[0mx_train\u001b[0m \u001b[1;33m=\u001b[0m \u001b[0mvectorize_sequences\u001b[0m\u001b[1;33m(\u001b[0m\u001b[0mtrain_data\u001b[0m\u001b[1;33m)\u001b[0m\u001b[1;33m\u001b[0m\u001b[1;33m\u001b[0m\u001b[0m\n\u001b[0m\u001b[0;32m      3\u001b[0m \u001b[1;31m# 테스트 데이터를 벡터로 변환합니다\u001b[0m\u001b[1;33m\u001b[0m\u001b[1;33m\u001b[0m\u001b[1;33m\u001b[0m\u001b[0m\n\u001b[0;32m      4\u001b[0m \u001b[0mx_test\u001b[0m \u001b[1;33m=\u001b[0m \u001b[0mvectorize_sequences\u001b[0m\u001b[1;33m(\u001b[0m\u001b[0mtest_data\u001b[0m\u001b[1;33m)\u001b[0m\u001b[1;33m\u001b[0m\u001b[1;33m\u001b[0m\u001b[0m\n\u001b[0;32m      5\u001b[0m \u001b[1;33m\u001b[0m\u001b[0m\n",
      "\u001b[1;32m<ipython-input-13-41b0acfb4c74>\u001b[0m in \u001b[0;36mvectorize_sequences\u001b[1;34m(sequences, dimension)\u001b[0m\n\u001b[0;32m      2\u001b[0m \u001b[1;32mdef\u001b[0m \u001b[0mvectorize_sequences\u001b[0m\u001b[1;33m(\u001b[0m\u001b[0msequences\u001b[0m\u001b[1;33m,\u001b[0m \u001b[0mdimension\u001b[0m\u001b[1;33m=\u001b[0m\u001b[1;36m10000\u001b[0m\u001b[1;33m)\u001b[0m\u001b[1;33m:\u001b[0m\u001b[1;33m\u001b[0m\u001b[1;33m\u001b[0m\u001b[0m\n\u001b[0;32m      3\u001b[0m     \u001b[1;31m# 크기가 (len(sequences), dimension))이고 모든 원소가 0인 행렬을 만듭니다\u001b[0m\u001b[1;33m\u001b[0m\u001b[1;33m\u001b[0m\u001b[1;33m\u001b[0m\u001b[0m\n\u001b[1;32m----> 4\u001b[1;33m     \u001b[0mresults\u001b[0m \u001b[1;33m=\u001b[0m \u001b[0mnp\u001b[0m\u001b[1;33m.\u001b[0m\u001b[0mzeros\u001b[0m\u001b[1;33m(\u001b[0m\u001b[1;33m(\u001b[0m\u001b[0mlen\u001b[0m\u001b[1;33m(\u001b[0m\u001b[0msequences\u001b[0m\u001b[1;33m)\u001b[0m\u001b[1;33m,\u001b[0m \u001b[0mdimension\u001b[0m\u001b[1;33m)\u001b[0m\u001b[1;33m)\u001b[0m\u001b[1;33m\u001b[0m\u001b[1;33m\u001b[0m\u001b[0m\n\u001b[0m\u001b[0;32m      5\u001b[0m     \u001b[1;32mfor\u001b[0m \u001b[0mi\u001b[0m\u001b[1;33m,\u001b[0m \u001b[0msequence\u001b[0m \u001b[1;32min\u001b[0m \u001b[0menumerate\u001b[0m\u001b[1;33m(\u001b[0m\u001b[0msequences\u001b[0m\u001b[1;33m)\u001b[0m\u001b[1;33m:\u001b[0m\u001b[1;33m\u001b[0m\u001b[1;33m\u001b[0m\u001b[0m\n\u001b[0;32m      6\u001b[0m         \u001b[0mresults\u001b[0m\u001b[1;33m[\u001b[0m\u001b[0mi\u001b[0m\u001b[1;33m,\u001b[0m \u001b[0msequence\u001b[0m\u001b[1;33m]\u001b[0m \u001b[1;33m=\u001b[0m \u001b[1;36m1.\u001b[0m  \u001b[1;31m# results[i]에서 특정 인덱스의 위치를 1로 만듭니다\u001b[0m\u001b[1;33m\u001b[0m\u001b[1;33m\u001b[0m\u001b[0m\n",
      "\u001b[1;31mMemoryError\u001b[0m: Unable to allocate 37.3 GiB for an array with shape (500000, 10000) and data type float64"
     ]
    }
   ],
   "source": [
    "\n",
    "# 훈련 데이터를 벡터로 변환합니다\n",
    "x_train = vectorize_sequences(train_data)\n",
    "# 테스트 데이터를 벡터로 변환합니다\n",
    "x_test = vectorize_sequences(test_data)\n",
    "\n",
    "\n",
    "y_train = np.asarray(train_labels).astype('float32')\n",
    "y_test = np.asarray(test_labels).astype('float32')"
   ]
  },
  {
   "cell_type": "code",
   "execution_count": 15,
   "metadata": {},
   "outputs": [
    {
     "data": {
      "text/plain": [
       "array([0., 1., 1., ..., 0., 0., 0.])"
      ]
     },
     "execution_count": 15,
     "metadata": {},
     "output_type": "execute_result"
    }
   ],
   "source": [
    "x_train[0]"
   ]
  },
  {
   "cell_type": "code",
   "execution_count": 16,
   "metadata": {},
   "outputs": [],
   "source": [
    "model.compile(optimizer='rmsprop',\n",
    "              loss='binary_crossentropy',\n",
    "              metrics=['accuracy'])\n",
    "\n",
    "#총 570000개 데이터 500000개를 훈련셋으로\n",
    "#그 중 100000개를 검증셋으로\n",
    "test_num = 400000\n",
    "x_val = x_train[test_num:]\n",
    "partial_x_train = x_train[:test_num]\n",
    "y_val = y_train[test_num:]\n",
    "partial_y_train = y_train[:test_num]"
   ]
  },
  {
   "cell_type": "code",
   "execution_count": 19,
   "metadata": {},
   "outputs": [],
   "source": [
    "from keras.callbacks import EarlyStopping\n",
    "early_stopping= EarlyStopping(monitor = 'val_loss',min_delta = 0, patience = 10, verbose = 0, mode = 'min')"
   ]
  },
  {
   "cell_type": "code",
   "execution_count": 20,
   "metadata": {},
   "outputs": [
    {
     "name": "stdout",
     "output_type": "stream",
     "text": [
      "Train on 400000 samples, validate on 100000 samples\n",
      "Epoch 1/100\n",
      "400000/400000 [==============================] - 236s 590us/step - loss: 0.4869 - accuracy: 0.7763 - val_loss: 0.4774 - val_accuracy: 0.7828\n",
      "Epoch 2/100\n",
      "400000/400000 [==============================] - 239s 597us/step - loss: 0.4647 - accuracy: 0.7884 - val_loss: 0.4714 - val_accuracy: 0.7862\n",
      "Epoch 3/100\n",
      "400000/400000 [==============================] - 232s 581us/step - loss: 0.4490 - accuracy: 0.7974 - val_loss: 0.4777 - val_accuracy: 0.7813\n",
      "Epoch 4/100\n",
      "400000/400000 [==============================] - 179s 447us/step - loss: 0.4305 - accuracy: 0.8072 - val_loss: 0.4892 - val_accuracy: 0.7767\n",
      "Epoch 5/100\n",
      "400000/400000 [==============================] - 173s 432us/step - loss: 0.4100 - accuracy: 0.8189 - val_loss: 0.4997 - val_accuracy: 0.7788\n",
      "Epoch 6/100\n",
      "400000/400000 [==============================] - 168s 419us/step - loss: 0.3893 - accuracy: 0.8292 - val_loss: 0.5214 - val_accuracy: 0.7742\n",
      "Epoch 7/100\n",
      "400000/400000 [==============================] - 166s 415us/step - loss: 0.3678 - accuracy: 0.8411 - val_loss: 0.5401 - val_accuracy: 0.7680\n",
      "Epoch 8/100\n",
      "400000/400000 [==============================] - 171s 428us/step - loss: 0.3467 - accuracy: 0.8521 - val_loss: 0.5716 - val_accuracy: 0.7683\n",
      "Epoch 9/100\n",
      "400000/400000 [==============================] - 166s 414us/step - loss: 0.3261 - accuracy: 0.8626 - val_loss: 0.5993 - val_accuracy: 0.7614\n",
      "Epoch 10/100\n",
      "400000/400000 [==============================] - 163s 409us/step - loss: 0.3071 - accuracy: 0.8726 - val_loss: 0.6337 - val_accuracy: 0.7463\n",
      "Epoch 11/100\n",
      "400000/400000 [==============================] - 162s 405us/step - loss: 0.2890 - accuracy: 0.8819 - val_loss: 0.7122 - val_accuracy: 0.7281\n",
      "Epoch 12/100\n",
      "400000/400000 [==============================] - 163s 407us/step - loss: 0.2728 - accuracy: 0.8896 - val_loss: 0.7160 - val_accuracy: 0.7498\n",
      "73913/73913 [==============================] - 24s 319us/step\n"
     ]
    },
    {
     "data": {
      "image/png": "[encoded data removed]",
      "text/plain": [
       "<Figure size 432x288 with 2 Axes>"
      ]
     },
     "metadata": {
      "needs_background": "light"
     },
     "output_type": "display_data"
    }
   ],
   "source": [
    "history = model.fit(partial_x_train,\n",
    "                    partial_y_train,\n",
    "                    epochs=100,\n",
    "                    batch_size=512,\n",
    "                    validation_data=(x_val, y_val), callbacks = [early_stopping])\n",
    "results = model.evaluate(x_test, y_test)\n",
    "\n",
    "\n",
    "\n",
    "#fit 함수의 아웃풋은 history\n",
    "history_dict = history.history\n",
    "history_dict.keys()\n",
    "\n",
    "\n",
    "fig, loss_ax = plt.subplots()\n",
    "\n",
    "\n",
    "acc_ax = loss_ax.twinx()\n",
    "\n",
    "loss_ax.plot(history.history['loss'], 'y', label='train loss')\n",
    "loss_ax.plot(history.history['val_loss'], 'r', label='val loss')\n",
    "\n",
    "\n",
    "acc_ax.plot(history.history['accuracy'], 'b', label='train acc')\n",
    "acc_ax.plot(history.history['val_accuracy'], 'g', label='val acc')\n",
    "\n",
    "loss_ax.set_xlabel('epoch')\n",
    "loss_ax.set_ylabel('loss')\n",
    "acc_ax.set_ylabel('accuray')\n",
    "\n",
    "loss_ax.legend(loc='upper left')\n",
    "acc_ax.legend(loc='lower left')\n",
    "\n",
    "\n",
    "plt.show()"
   ]
  },
  {
   "cell_type": "code",
   "execution_count": 29,
   "metadata": {},
   "outputs": [
    {
     "name": "stdout",
     "output_type": "stream",
     "text": [
      "73913/73913 [==============================] - 18s 248us/step\n"
     ]
    },
    {
     "data": {
      "text/plain": [
       "[0.7101871550039613, 0.7512075304985046]"
      ]
     },
     "execution_count": 29,
     "metadata": {},
     "output_type": "execute_result"
    }
   ],
   "source": [
    "model.evaluate(x_test, y_test)"
   ]
  },
  {
   "cell_type": "code",
   "execution_count": 22,
   "metadata": {},
   "outputs": [],
   "source": [
    "from keras.models import load_model\n",
    "model.save('spoiler_detect_model.h5')"
   ]
  },
  {
   "cell_type": "code",
   "execution_count": 26,
   "metadata": {},
   "outputs": [
    {
     "data": {
      "text/plain": [
       "list"
      ]
     },
     "execution_count": 26,
     "metadata": {},
     "output_type": "execute_result"
    }
   ],
   "source": [
    "type(test_data)"
   ]
  },
  {
   "cell_type": "code",
   "execution_count": 31,
   "metadata": {},
   "outputs": [
    {
     "name": "stdout",
     "output_type": "stream",
     "text": [
      "Train on 400000 samples, validate on 100000 samples\n",
      "Epoch 1/100\n",
      "400000/400000 [==============================] - 166s 414us/step - loss: 0.5250 - accuracy: 0.7535 - val_loss: 0.4922 - val_accuracy: 0.7751\n",
      "Epoch 2/100\n",
      "400000/400000 [==============================] - 161s 403us/step - loss: 0.4815 - accuracy: 0.7776 - val_loss: 0.4761 - val_accuracy: 0.7815\n",
      "Epoch 3/100\n",
      "400000/400000 [==============================] - 170s 425us/step - loss: 0.4670 - accuracy: 0.7850 - val_loss: 0.4721 - val_accuracy: 0.7847\n",
      "Epoch 4/100\n",
      "400000/400000 [==============================] - 171s 428us/step - loss: 0.4548 - accuracy: 0.7909 - val_loss: 0.4757 - val_accuracy: 0.7840\n",
      "Epoch 5/100\n",
      "400000/400000 [==============================] - 200s 501us/step - loss: 0.4420 - accuracy: 0.7977 - val_loss: 0.4788 - val_accuracy: 0.7852\n",
      "Epoch 6/100\n",
      "400000/400000 [==============================] - 208s 519us/step - loss: 0.4292 - accuracy: 0.8043 - val_loss: 0.4747 - val_accuracy: 0.7823\n",
      "Epoch 7/100\n",
      "400000/400000 [==============================] - 239s 597us/step - loss: 0.4145 - accuracy: 0.8124 - val_loss: 0.4792 - val_accuracy: 0.7808\n",
      "Epoch 8/100\n",
      "400000/400000 [==============================] - 232s 579us/step - loss: 0.4000 - accuracy: 0.8208 - val_loss: 0.4925 - val_accuracy: 0.7702\n",
      "Epoch 9/100\n",
      "400000/400000 [==============================] - 221s 552us/step - loss: 0.3851 - accuracy: 0.8283 - val_loss: 0.4998 - val_accuracy: 0.7673\n",
      "Epoch 10/100\n",
      "400000/400000 [==============================] - 242s 604us/step - loss: 0.3703 - accuracy: 0.8365 - val_loss: 0.5195 - val_accuracy: 0.7537\n",
      "Epoch 11/100\n",
      "400000/400000 [==============================] - 203s 508us/step - loss: 0.3563 - accuracy: 0.8443 - val_loss: 0.5298 - val_accuracy: 0.7789\n",
      "Epoch 12/100\n",
      "400000/400000 [==============================] - 192s 480us/step - loss: 0.3424 - accuracy: 0.8513 - val_loss: 0.5506 - val_accuracy: 0.7785\n",
      "Epoch 13/100\n",
      "400000/400000 [==============================] - 196s 489us/step - loss: 0.3291 - accuracy: 0.8584 - val_loss: 0.5584 - val_accuracy: 0.7744\n",
      "73913/73913 [==============================] - 28s 373us/step\n"
     ]
    }
   ],
   "source": [
    "model2 = models.Sequential()\n",
    "model2.compile(optimizer='rmsprop',\n",
    "              loss='binary_crossentropy',\n",
    "              metrics=['accuracy'])\n",
    "model2.add(layers.Dense(256, activation='relu', input_shape=(10000,)))\n",
    "model2.add(layers.Dense(32, activation='relu'))\n",
    "model2.add(layers.Dense(1, activation='sigmoid'))\n",
    "\n",
    "history2 = model2.fit(partial_x_train,\n",
    "                    partial_y_train,\n",
    "                    epochs=100,\n",
    "                    batch_size=5000,\n",
    "                    validation_data=(x_val, y_val), callbacks = [early_stopping])\n",
    "results2 = model2.evaluate(x_test, y_test)"
   ]
  },
  {
   "cell_type": "code",
   "execution_count": 32,
   "metadata": {},
   "outputs": [
    {
     "data": {
      "image/png": "[encoded data removed]",
      "text/plain": [
       "<Figure size 432x288 with 2 Axes>"
      ]
     },
     "metadata": {
      "needs_background": "light"
     },
     "output_type": "display_data"
    }
   ],
   "source": [
    "\n",
    "#fit 함수의 아웃풋은 history\n",
    "history_dict = history2.history\n",
    "history_dict.keys()\n",
    "\n",
    "\n",
    "fig, loss_ax = plt.subplots()\n",
    "\n",
    "\n",
    "acc_ax = loss_ax.twinx()\n",
    "\n",
    "loss_ax.plot(history2.history['loss'], 'y', label='train loss')\n",
    "loss_ax.plot(history2.history['val_loss'], 'r', label='val loss')\n",
    "\n",
    "\n",
    "acc_ax.plot(history2.history['accuracy'], 'b', label='train acc')\n",
    "acc_ax.plot(history2.history['val_accuracy'], 'g', label='val acc')\n",
    "\n",
    "loss_ax.set_xlabel('epoch')\n",
    "loss_ax.set_ylabel('loss')\n",
    "acc_ax.set_ylabel('accuray')\n",
    "\n",
    "loss_ax.legend(loc='upper left')\n",
    "acc_ax.legend(loc='lower left')\n",
    "\n",
    "\n",
    "plt.show()"
   ]
  },
  {
   "cell_type": "code",
   "execution_count": 33,
   "metadata": {},
   "outputs": [
    {
     "name": "stdout",
     "output_type": "stream",
     "text": [
      "73913/73913 [==============================] - 9s 118us/step\n"
     ]
    }
   ],
   "source": [
    "results = model2.evaluate(x_test, y_test)"
   ]
  },
  {
   "cell_type": "code",
   "execution_count": 34,
   "metadata": {},
   "outputs": [
    {
     "data": {
      "text/plain": [
       "[0.5542793219944278, 0.7749651670455933]"
      ]
     },
     "execution_count": 34,
     "metadata": {},
     "output_type": "execute_result"
    }
   ],
   "source": [
    "results"
   ]
  },
  {
   "cell_type": "code",
   "execution_count": 46,
   "metadata": {},
   "outputs": [],
   "source": [
    "model2.save('spoiler_detect_model2.h5')"
   ]
  },
  {
   "cell_type": "code",
   "execution_count": 36,
   "metadata": {},
   "outputs": [
    {
     "name": "stdout",
     "output_type": "stream",
     "text": [
      "Train on 400000 samples, validate on 100000 samples\n",
      "Epoch 1/100\n",
      "400000/400000 [==============================] - 260s 651us/step - loss: 0.5324 - accuracy: 0.7530 - val_loss: 0.4886 - val_accuracy: 0.7740\n",
      "Epoch 2/100\n",
      "400000/400000 [==============================] - 192s 480us/step - loss: 0.4801 - accuracy: 0.7785 - val_loss: 0.4731 - val_accuracy: 0.7830\n",
      "Epoch 3/100\n",
      "400000/400000 [==============================] - 190s 476us/step - loss: 0.4615 - accuracy: 0.7874 - val_loss: 0.4857 - val_accuracy: 0.7775\n",
      "Epoch 4/100\n",
      "400000/400000 [==============================] - 182s 456us/step - loss: 0.4430 - accuracy: 0.7961 - val_loss: 0.4751 - val_accuracy: 0.7870\n",
      "Epoch 5/100\n",
      "400000/400000 [==============================] - 200s 499us/step - loss: 0.4178 - accuracy: 0.8089 - val_loss: 0.4877 - val_accuracy: 0.7856\n",
      "Epoch 6/100\n",
      "400000/400000 [==============================] - 178s 446us/step - loss: 0.3863 - accuracy: 0.8255 - val_loss: 0.4851 - val_accuracy: 0.7764\n",
      "Epoch 7/100\n",
      "400000/400000 [==============================] - 188s 470us/step - loss: 0.3492 - accuracy: 0.8463 - val_loss: 0.5078 - val_accuracy: 0.7816\n",
      "Epoch 8/100\n",
      "400000/400000 [==============================] - 192s 479us/step - loss: 0.3092 - accuracy: 0.8676 - val_loss: 0.5118 - val_accuracy: 0.7733\n",
      "Epoch 9/100\n",
      "400000/400000 [==============================] - 186s 465us/step - loss: 0.2678 - accuracy: 0.8903 - val_loss: 0.5558 - val_accuracy: 0.7586\n",
      "Epoch 10/100\n",
      "400000/400000 [==============================] - 192s 480us/step - loss: 0.2341 - accuracy: 0.9063 - val_loss: 0.5884 - val_accuracy: 0.7675\n",
      "Epoch 11/100\n",
      "400000/400000 [==============================] - 188s 469us/step - loss: 0.1975 - accuracy: 0.9258 - val_loss: 0.6393 - val_accuracy: 0.7603\n",
      "Epoch 12/100\n",
      "400000/400000 [==============================] - 183s 458us/step - loss: 0.1716 - accuracy: 0.9394 - val_loss: 0.6781 - val_accuracy: 0.7517\n",
      "Epoch 13/100\n",
      "400000/400000 [==============================] - 194s 484us/step - loss: 0.1448 - accuracy: 0.9507 - val_loss: 0.7494 - val_accuracy: 0.7605\n",
      "Epoch 14/100\n",
      "400000/400000 [==============================] - 183s 457us/step - loss: 0.1239 - accuracy: 0.9604 - val_loss: 1.5309 - val_accuracy: 0.7574\n",
      "Epoch 15/100\n",
      "400000/400000 [==============================] - 183s 458us/step - loss: 0.1139 - accuracy: 0.9619 - val_loss: 1.9514 - val_accuracy: 0.7491\n",
      "Epoch 16/100\n",
      "400000/400000 [==============================] - 180s 451us/step - loss: 0.1050 - accuracy: 0.9706 - val_loss: 0.8407 - val_accuracy: 0.7620\n",
      "Epoch 17/100\n",
      "400000/400000 [==============================] - 191s 477us/step - loss: 0.0893 - accuracy: 0.9765 - val_loss: 0.9171 - val_accuracy: 0.7601\n",
      "Epoch 18/100\n",
      "400000/400000 [==============================] - 188s 471us/step - loss: 0.0827 - accuracy: 0.9831 - val_loss: 0.9836 - val_accuracy: 0.7573\n",
      "Epoch 19/100\n",
      "400000/400000 [==============================] - 192s 480us/step - loss: 0.0933 - accuracy: 0.9810 - val_loss: 0.9685 - val_accuracy: 0.7600\n",
      "Epoch 20/100\n",
      "400000/400000 [==============================] - 197s 492us/step - loss: 0.0537 - accuracy: 0.9881 - val_loss: 1.0452 - val_accuracy: 0.7159\n",
      "Epoch 21/100\n",
      "400000/400000 [==============================] - 191s 479us/step - loss: 0.0933 - accuracy: 0.9788 - val_loss: 1.0964 - val_accuracy: 0.7585\n",
      "Epoch 22/100\n",
      "400000/400000 [==============================] - 204s 511us/step - loss: 0.0590 - accuracy: 0.9889 - val_loss: 1.1626 - val_accuracy: 0.7516\n",
      "Epoch 23/100\n",
      "400000/400000 [==============================] - 201s 502us/step - loss: 0.1010 - accuracy: 0.9848 - val_loss: 1.0276 - val_accuracy: 0.7557\n",
      "Epoch 24/100\n",
      "400000/400000 [==============================] - 198s 495us/step - loss: 0.0507 - accuracy: 0.9892 - val_loss: 1.2152 - val_accuracy: 0.7589\n",
      "Epoch 25/100\n",
      "400000/400000 [==============================] - 180s 450us/step - loss: 0.0641 - accuracy: 0.9888 - val_loss: 1.2791 - val_accuracy: 0.7565\n",
      "Epoch 26/100\n",
      "400000/400000 [==============================] - 185s 464us/step - loss: 0.0564 - accuracy: 0.9956 - val_loss: 1.3461 - val_accuracy: 0.7544\n",
      "Epoch 27/100\n",
      "400000/400000 [==============================] - 203s 508us/step - loss: 0.0474 - accuracy: 0.9895 - val_loss: 1.3688 - val_accuracy: 0.7521\n",
      "Epoch 28/100\n",
      "400000/400000 [==============================] - 190s 475us/step - loss: 0.0607 - accuracy: 0.9890 - val_loss: 1.4217 - val_accuracy: 0.7581\n",
      "Epoch 29/100\n",
      "400000/400000 [==============================] - 195s 487us/step - loss: 0.0678 - accuracy: 0.9894 - val_loss: 1.4440 - val_accuracy: 0.7584\n",
      "Epoch 30/100\n",
      "400000/400000 [==============================] - 200s 501us/step - loss: 0.0481 - accuracy: 0.9917 - val_loss: 1.4493 - val_accuracy: 0.7581\n",
      "Epoch 31/100\n",
      "400000/400000 [==============================] - 205s 513us/step - loss: 0.0607 - accuracy: 0.9952 - val_loss: 1.4651 - val_accuracy: 0.7550\n",
      "Epoch 32/100\n",
      "400000/400000 [==============================] - 193s 482us/step - loss: 0.0597 - accuracy: 0.9897 - val_loss: 1.4728 - val_accuracy: 0.7568\n",
      "Epoch 33/100\n",
      "400000/400000 [==============================] - 188s 471us/step - loss: 0.0575 - accuracy: 0.9895 - val_loss: 1.4607 - val_accuracy: 0.7582\n",
      "Epoch 34/100\n",
      "400000/400000 [==============================] - 199s 498us/step - loss: 0.0708 - accuracy: 0.9901 - val_loss: 1.5156 - val_accuracy: 0.7594\n",
      "Epoch 35/100\n",
      "400000/400000 [==============================] - 188s 471us/step - loss: 0.0571 - accuracy: 0.9945 - val_loss: 1.3075 - val_accuracy: 0.7486\n",
      "Epoch 36/100\n",
      "400000/400000 [==============================] - 193s 483us/step - loss: 0.0723 - accuracy: 0.9956 - val_loss: 1.2720 - val_accuracy: 0.7349\n",
      "Epoch 37/100\n",
      "400000/400000 [==============================] - 180s 451us/step - loss: 0.0022 - accuracy: 0.9996 - val_loss: 1.6706 - val_accuracy: 0.7546\n",
      "Epoch 38/100\n",
      "400000/400000 [==============================] - 186s 465us/step - loss: 0.0698 - accuracy: 0.9927 - val_loss: 1.6278 - val_accuracy: 0.7570\n",
      "Epoch 39/100\n",
      "400000/400000 [==============================] - 208s 520us/step - loss: 0.0519 - accuracy: 0.9899 - val_loss: 1.5341 - val_accuracy: 0.7583\n",
      "Epoch 40/100\n",
      "400000/400000 [==============================] - 209s 522us/step - loss: 0.0538 - accuracy: 0.9918 - val_loss: 1.6365 - val_accuracy: 0.7664\n",
      "Epoch 41/100\n",
      "400000/400000 [==============================] - 193s 482us/step - loss: 0.0017 - accuracy: 0.9996 - val_loss: 1.6577 - val_accuracy: 0.7530\n",
      "Epoch 42/100\n",
      "400000/400000 [==============================] - 190s 476us/step - loss: 0.0665 - accuracy: 0.9906 - val_loss: 1.6654 - val_accuracy: 0.7571\n",
      "Epoch 43/100\n",
      "400000/400000 [==============================] - 209s 522us/step - loss: 0.0581 - accuracy: 0.9959 - val_loss: 1.5526 - val_accuracy: 0.7544\n",
      "Epoch 44/100\n",
      "400000/400000 [==============================] - 202s 505us/step - loss: 0.0553 - accuracy: 0.9923 - val_loss: 1.5093 - val_accuracy: 0.7474\n",
      "Epoch 45/100\n",
      "400000/400000 [==============================] - 210s 525us/step - loss: 0.0013 - accuracy: 0.9996 - val_loss: 1.8025 - val_accuracy: 0.7537\n",
      "Epoch 46/100\n",
      "400000/400000 [==============================] - 215s 538us/step - loss: 0.0668 - accuracy: 0.9905 - val_loss: 1.7679 - val_accuracy: 0.7576\n",
      "Epoch 47/100\n",
      "400000/400000 [==============================] - 210s 525us/step - loss: 0.0832 - accuracy: 0.9905 - val_loss: 1.7396 - val_accuracy: 0.7555\n",
      "Epoch 48/100\n",
      "400000/400000 [==============================] - 203s 507us/step - loss: 0.0789 - accuracy: 0.9901 - val_loss: 1.6924 - val_accuracy: 0.7563\n",
      "Epoch 49/100\n",
      "400000/400000 [==============================] - 188s 470us/step - loss: 0.0011 - accuracy: 0.9996 - val_loss: 1.7448 - val_accuracy: 0.7469\n",
      "Epoch 50/100\n",
      "400000/400000 [==============================] - 195s 488us/step - loss: 0.0539 - accuracy: 0.9943 - val_loss: 1.6964 - val_accuracy: 0.7535\n",
      "Epoch 51/100\n",
      "400000/400000 [==============================] - 198s 496us/step - loss: 0.0551 - accuracy: 0.9944 - val_loss: 1.6005 - val_accuracy: 0.7462\n",
      "Epoch 52/100\n",
      "400000/400000 [==============================] - 218s 545us/step - loss: 0.0012 - accuracy: 0.9996 - val_loss: 2.3117 - val_accuracy: 0.7650\n",
      "Epoch 53/100\n",
      "400000/400000 [==============================] - 206s 516us/step - loss: 0.0552 - accuracy: 0.9914 - val_loss: 1.8585 - val_accuracy: 0.7541\n"
     ]
    },
    {
     "name": "stdout",
     "output_type": "stream",
     "text": [
      "Epoch 54/100\n",
      "400000/400000 [==============================] - 187s 468us/step - loss: 0.0644 - accuracy: 0.9905 - val_loss: 1.8030 - val_accuracy: 0.7511\n",
      "Epoch 55/100\n",
      "400000/400000 [==============================] - 199s 497us/step - loss: 0.0693 - accuracy: 0.9908 - val_loss: 1.7167 - val_accuracy: 0.7455\n",
      "Epoch 56/100\n",
      "400000/400000 [==============================] - 204s 509us/step - loss: 0.0011 - accuracy: 0.9997 - val_loss: 1.9488 - val_accuracy: 0.7509\n",
      "Epoch 57/100\n",
      "400000/400000 [==============================] - 202s 506us/step - loss: 0.0515 - accuracy: 0.9909 - val_loss: 1.8589 - val_accuracy: 0.7517\n",
      "Epoch 58/100\n",
      "400000/400000 [==============================] - 191s 477us/step - loss: 0.0573 - accuracy: 0.9944 - val_loss: 1.7180 - val_accuracy: 0.7471\n",
      "Epoch 59/100\n",
      "400000/400000 [==============================] - 201s 503us/step - loss: 0.0596 - accuracy: 0.9911 - val_loss: 1.7069 - val_accuracy: 0.7454\n",
      "Epoch 60/100\n",
      "400000/400000 [==============================] - 190s 475us/step - loss: 0.0011 - accuracy: 0.9997 - val_loss: 2.0199 - val_accuracy: 0.7512\n",
      "Epoch 61/100\n",
      "400000/400000 [==============================] - 200s 499us/step - loss: 0.0712 - accuracy: 0.9903 - val_loss: 1.9295 - val_accuracy: 0.7508\n",
      "Epoch 62/100\n",
      "400000/400000 [==============================] - 216s 540us/step - loss: 0.0547 - accuracy: 0.9949 - val_loss: 1.7187 - val_accuracy: 0.7447\n",
      "Epoch 63/100\n",
      "400000/400000 [==============================] - 201s 503us/step - loss: 0.0507 - accuracy: 0.9939 - val_loss: 1.8626 - val_accuracy: 0.7603\n",
      "Epoch 64/100\n",
      "400000/400000 [==============================] - 203s 507us/step - loss: 0.0012 - accuracy: 0.9997 - val_loss: 2.0247 - val_accuracy: 0.7505\n",
      "Epoch 65/100\n",
      "400000/400000 [==============================] - 197s 493us/step - loss: 0.0674 - accuracy: 0.9910 - val_loss: 1.9423 - val_accuracy: 0.7510\n",
      "Epoch 66/100\n",
      "400000/400000 [==============================] - 203s 509us/step - loss: 0.0448 - accuracy: 0.9925 - val_loss: 1.8139 - val_accuracy: 0.7460\n",
      "Epoch 67/100\n",
      "400000/400000 [==============================] - 202s 505us/step - loss: 0.0496 - accuracy: 0.9957 - val_loss: 1.7153 - val_accuracy: 0.7417\n",
      "Epoch 68/100\n",
      "400000/400000 [==============================] - 197s 493us/step - loss: 0.0543 - accuracy: 0.9915 - val_loss: 1.7783 - val_accuracy: 0.7482\n",
      "Epoch 69/100\n",
      "400000/400000 [==============================] - 197s 494us/step - loss: 0.0011 - accuracy: 0.9997 - val_loss: 2.0522 - val_accuracy: 0.7489\n",
      "Epoch 70/100\n",
      "400000/400000 [==============================] - 197s 492us/step - loss: 0.0580 - accuracy: 0.9913 - val_loss: 2.0156 - val_accuracy: 0.7498\n",
      "Epoch 71/100\n",
      "400000/400000 [==============================] - 197s 493us/step - loss: 0.0471 - accuracy: 0.9948 - val_loss: 1.8988 - val_accuracy: 0.7468\n",
      "Epoch 72/100\n",
      "400000/400000 [==============================] - 200s 499us/step - loss: 0.0394 - accuracy: 0.9927 - val_loss: 1.9805 - val_accuracy: 0.7582\n",
      "Epoch 73/100\n",
      "400000/400000 [==============================] - 198s 496us/step - loss: 0.0010 - accuracy: 0.9997 - val_loss: 2.1526 - val_accuracy: 0.7488\n",
      "Epoch 74/100\n",
      "400000/400000 [==============================] - 210s 525us/step - loss: 0.0432 - accuracy: 0.9923 - val_loss: 2.0178 - val_accuracy: 0.7499\n",
      "Epoch 75/100\n",
      "400000/400000 [==============================] - 203s 507us/step - loss: 0.0627 - accuracy: 0.9917 - val_loss: 2.1186 - val_accuracy: 0.7572\n",
      "Epoch 76/100\n",
      "400000/400000 [==============================] - 205s 513us/step - loss: 8.0298e-04 - accuracy: 0.9997 - val_loss: 2.2314 - val_accuracy: 0.7481\n",
      "Epoch 77/100\n",
      "400000/400000 [==============================] - 213s 533us/step - loss: 0.0537 - accuracy: 0.9920 - val_loss: 2.1339 - val_accuracy: 0.7512\n",
      "Epoch 78/100\n",
      "400000/400000 [==============================] - 225s 561us/step - loss: 0.0402 - accuracy: 0.9932 - val_loss: 2.0039 - val_accuracy: 0.7466\n",
      "Epoch 79/100\n",
      "400000/400000 [==============================] - 203s 508us/step - loss: 0.0476 - accuracy: 0.9917 - val_loss: 1.9404 - val_accuracy: 0.7403\n",
      "Epoch 80/100\n",
      "400000/400000 [==============================] - 192s 480us/step - loss: 8.9802e-04 - accuracy: 0.9997 - val_loss: 2.2556 - val_accuracy: 0.7481\n",
      "Epoch 81/100\n",
      "400000/400000 [==============================] - 195s 487us/step - loss: 0.0459 - accuracy: 0.9922 - val_loss: 2.1602 - val_accuracy: 0.7480\n",
      "Epoch 82/100\n",
      "400000/400000 [==============================] - 201s 503us/step - loss: 0.0509 - accuracy: 0.9958 - val_loss: 2.0215 - val_accuracy: 0.7432\n",
      "Epoch 83/100\n",
      "400000/400000 [==============================] - 199s 498us/step - loss: 0.0568 - accuracy: 0.9915 - val_loss: 2.0349 - val_accuracy: 0.7408\n",
      "Epoch 84/100\n",
      "400000/400000 [==============================] - 212s 530us/step - loss: 9.9752e-04 - accuracy: 0.9997 - val_loss: 2.2926 - val_accuracy: 0.7425\n",
      "Epoch 85/100\n",
      "400000/400000 [==============================] - 207s 518us/step - loss: 0.0675 - accuracy: 0.9915 - val_loss: 2.2242 - val_accuracy: 0.7464\n",
      "Epoch 86/100\n",
      "400000/400000 [==============================] - 203s 507us/step - loss: 0.0430 - accuracy: 0.9924 - val_loss: 2.1637 - val_accuracy: 0.7459\n",
      "Epoch 87/100\n",
      "400000/400000 [==============================] - 217s 543us/step - loss: 0.0490 - accuracy: 0.9953 - val_loss: 2.0369 - val_accuracy: 0.7462\n",
      "Epoch 88/100\n",
      "400000/400000 [==============================] - 224s 561us/step - loss: 0.0341 - accuracy: 0.9941 - val_loss: 2.0538 - val_accuracy: 0.7537\n",
      "Epoch 89/100\n",
      "400000/400000 [==============================] - 225s 562us/step - loss: 0.0366 - accuracy: 0.9930 - val_loss: 1.9065 - val_accuracy: 0.7272\n",
      "Epoch 90/100\n",
      "400000/400000 [==============================] - 208s 520us/step - loss: 0.0414 - accuracy: 0.9921 - val_loss: 2.0071 - val_accuracy: 0.7497\n",
      "Epoch 91/100\n",
      "400000/400000 [==============================] - 208s 520us/step - loss: 0.0460 - accuracy: 0.9921 - val_loss: 1.9829 - val_accuracy: 0.7464\n",
      "Epoch 92/100\n",
      "400000/400000 [==============================] - 220s 550us/step - loss: 0.0011 - accuracy: 0.9997 - val_loss: 2.2048 - val_accuracy: 0.7385\n",
      "Epoch 93/100\n",
      "400000/400000 [==============================] - 211s 529us/step - loss: 0.0387 - accuracy: 0.9925 - val_loss: 2.2593 - val_accuracy: 0.7452\n",
      "Epoch 94/100\n",
      "400000/400000 [==============================] - 217s 543us/step - loss: 0.0462 - accuracy: 0.9924 - val_loss: 2.3017 - val_accuracy: 0.7506\n",
      "Epoch 95/100\n",
      "400000/400000 [==============================] - 216s 540us/step - loss: 0.0432 - accuracy: 0.9922 - val_loss: 2.2293 - val_accuracy: 0.7471\n",
      "Epoch 96/100\n",
      "400000/400000 [==============================] - 246s 615us/step - loss: 0.0498 - accuracy: 0.9922 - val_loss: 2.1696 - val_accuracy: 0.7468\n",
      "Epoch 97/100\n",
      "400000/400000 [==============================] - 233s 583us/step - loss: 0.0387 - accuracy: 0.9927 - val_loss: 2.2969 - val_accuracy: 0.7582\n",
      "Epoch 98/100\n",
      "400000/400000 [==============================] - 230s 576us/step - loss: 9.7565e-04 - accuracy: 0.9997 - val_loss: 2.3995 - val_accuracy: 0.7449\n",
      "Epoch 99/100\n",
      "400000/400000 [==============================] - 224s 559us/step - loss: 0.0354 - accuracy: 0.9932 - val_loss: 2.3722 - val_accuracy: 0.7462\n",
      "Epoch 100/100\n",
      "400000/400000 [==============================] - 234s 585us/step - loss: 0.0355 - accuracy: 0.9936 - val_loss: 2.3001 - val_accuracy: 0.7469\n",
      "73913/73913 [==============================] - 35s 474us/step\n"
     ]
    }
   ],
   "source": [
    "model3 = models.Sequential()\n",
    "model3.compile(optimizer='rmsprop',\n",
    "              loss='binary_crossentropy',\n",
    "              metrics=['accuracy'])\n",
    "model3.add(layers.Dense(256, activation='relu', input_shape=(10000,)))\n",
    "model3.add(layers.Dense(32, activation='relu'))\n",
    "model3.add(layers.Dense(1, activation='sigmoid'))\n",
    "\n",
    "history3 = model3.fit(partial_x_train,\n",
    "                    partial_y_train,\n",
    "                    epochs=100,\n",
    "                    batch_size=5000,\n",
    "                    validation_data=(x_val, y_val))\n",
    "results3 = model3.evaluate(x_test, y_test)"
   ]
  },
  {
   "cell_type": "code",
   "execution_count": 37,
   "metadata": {},
   "outputs": [
    {
     "data": {
      "text/plain": [
       "[2.264640515553779, 0.7530069351196289]"
      ]
     },
     "execution_count": 37,
     "metadata": {},
     "output_type": "execute_result"
    }
   ],
   "source": [
    "results3"
   ]
  },
  {
   "cell_type": "code",
   "execution_count": 38,
   "metadata": {},
   "outputs": [
    {
     "data": {
      "image/png": "[encoded data removed]",
      "text/plain": [
       "<Figure size 432x288 with 2 Axes>"
      ]
     },
     "metadata": {
      "needs_background": "light"
     },
     "output_type": "display_data"
    }
   ],
   "source": [
    "fig, loss_ax = plt.subplots()\n",
    "\n",
    "\n",
    "acc_ax = loss_ax.twinx()\n",
    "\n",
    "loss_ax.plot(history3.history['loss'], 'y', label='train loss')\n",
    "loss_ax.plot(history3.history['val_loss'], 'r', label='val loss')\n",
    "\n",
    "\n",
    "acc_ax.plot(history3.history['accuracy'], 'b', label='train acc')\n",
    "acc_ax.plot(history3.history['val_accuracy'], 'g', label='val acc')\n",
    "\n",
    "loss_ax.set_xlabel('epoch')\n",
    "loss_ax.set_ylabel('loss')\n",
    "acc_ax.set_ylabel('accuray')\n",
    "\n",
    "loss_ax.legend(loc='upper left')\n",
    "acc_ax.legend(loc='lower left')\n",
    "\n",
    "\n",
    "plt.show()"
   ]
  },
  {
   "cell_type": "code",
   "execution_count": 54,
   "metadata": {},
   "outputs": [
    {
     "data": {
      "text/plain": [
       "[]"
      ]
     },
     "execution_count": 54,
     "metadata": {},
     "output_type": "execute_result"
    }
   ],
   "source": [
    "import keras.backend.tensorflow_backend as K\n",
    "import tensorflow as tf\n",
    "\n",
    "K._get_available_gpus()\n",
    "# with Keras_GPU.tf.device('/gpu:0'):\n",
    "#     model4 = models.Sequential()\n",
    "#     model4.compile(optimizer='rmsprop',\n",
    "#                   loss='binary_crossentropy',\n",
    "#                   metrics=['accuracy'])\n",
    "#     model4.add(layers.Dense(256, activation='relu', input_shape=(10000,)))\n",
    "#     model4.add(layers.Dense(32, activation='relu'))\n",
    "#     model4.add(layers.Dense(1, activation='sigmoid'))\n",
    "\n",
    "#     history4 = model4.fit(partial_x_train,\n",
    "#                         partial_y_train,\n",
    "#                         epochs=100,\n",
    "#                         batch_size=512,\n",
    "#                         validation_data=(x_val, y_val))\n",
    "#     results4= model4.evaluate(x_test, y_test)"
   ]
  },
  {
   "cell_type": "code",
   "execution_count": 47,
   "metadata": {},
   "outputs": [],
   "source": [
    "model3.save('spoiler_detect_model3.h5')"
   ]
  },
  {
   "cell_type": "code",
   "execution_count": 66,
   "metadata": {},
   "outputs": [
    {
     "name": "stdout",
     "output_type": "stream",
     "text": [
      "Train on 20000 samples, validate on 20000 samples\n",
      "Epoch 1/50\n",
      "20000/20000 [==============================] - 18s 876us/step - loss: 0.1752 - accuracy: 0.7549 - val_loss: 0.1722 - val_accuracy: 0.7635\n",
      "Epoch 2/50\n",
      "20000/20000 [==============================] - 7s 363us/step - loss: 0.1304 - accuracy: 0.8212 - val_loss: 0.1773 - val_accuracy: 0.7484\n",
      "Epoch 3/50\n",
      "20000/20000 [==============================] - 7s 347us/step - loss: 0.0829 - accuracy: 0.8984 - val_loss: 0.1936 - val_accuracy: 0.7365\n",
      "Epoch 4/50\n",
      "20000/20000 [==============================] - 7s 345us/step - loss: 0.0402 - accuracy: 0.9571 - val_loss: 0.2077 - val_accuracy: 0.7366\n",
      "Epoch 5/50\n",
      "20000/20000 [==============================] - 7s 346us/step - loss: 0.0180 - accuracy: 0.9827 - val_loss: 0.2152 - val_accuracy: 0.7372\n",
      "Epoch 6/50\n",
      "20000/20000 [==============================] - 7s 341us/step - loss: 0.0110 - accuracy: 0.9886 - val_loss: 0.2253 - val_accuracy: 0.7228\n",
      "Epoch 7/50\n",
      "20000/20000 [==============================] - 7s 350us/step - loss: 0.0091 - accuracy: 0.9904 - val_loss: 0.2316 - val_accuracy: 0.7168\n",
      "Epoch 8/50\n",
      "20000/20000 [==============================] - 7s 343us/step - loss: 0.0067 - accuracy: 0.9930 - val_loss: 0.2362 - val_accuracy: 0.7114\n",
      "Epoch 9/50\n",
      "20000/20000 [==============================] - 7s 345us/step - loss: 0.0067 - accuracy: 0.9931 - val_loss: 0.2253 - val_accuracy: 0.7333\n",
      "Epoch 10/50\n",
      "20000/20000 [==============================] - 7s 353us/step - loss: 0.0055 - accuracy: 0.9945 - val_loss: 0.2327 - val_accuracy: 0.7253\n",
      "Epoch 11/50\n",
      "20000/20000 [==============================] - 7s 348us/step - loss: 0.0051 - accuracy: 0.9950 - val_loss: 0.2297 - val_accuracy: 0.7308\n",
      "Epoch 12/50\n",
      "20000/20000 [==============================] - 7s 374us/step - loss: 0.0054 - accuracy: 0.9943 - val_loss: 0.2354 - val_accuracy: 0.7233\n",
      "Epoch 13/50\n",
      "20000/20000 [==============================] - 8s 396us/step - loss: 0.0053 - accuracy: 0.9941 - val_loss: 0.2303 - val_accuracy: 0.7348\n",
      "Epoch 14/50\n",
      "20000/20000 [==============================] - 7s 356us/step - loss: 0.0050 - accuracy: 0.9949 - val_loss: 0.2283 - val_accuracy: 0.7368\n",
      "Epoch 15/50\n",
      "20000/20000 [==============================] - 7s 359us/step - loss: 0.0047 - accuracy: 0.9951 - val_loss: 0.2310 - val_accuracy: 0.7347\n",
      "Epoch 16/50\n",
      "20000/20000 [==============================] - 7s 358us/step - loss: 0.0049 - accuracy: 0.9949 - val_loss: 0.2384 - val_accuracy: 0.7242\n",
      "Epoch 17/50\n",
      "20000/20000 [==============================] - 7s 358us/step - loss: 0.0050 - accuracy: 0.9948 - val_loss: 0.2277 - val_accuracy: 0.7418\n",
      "Epoch 18/50\n",
      "20000/20000 [==============================] - 7s 368us/step - loss: 0.0044 - accuracy: 0.9954 - val_loss: 0.2321 - val_accuracy: 0.7373\n",
      "Epoch 19/50\n",
      "20000/20000 [==============================] - 7s 369us/step - loss: 0.0045 - accuracy: 0.9953 - val_loss: 0.2332 - val_accuracy: 0.7390\n",
      "Epoch 20/50\n",
      "20000/20000 [==============================] - 7s 349us/step - loss: 0.0041 - accuracy: 0.9959 - val_loss: 0.2475 - val_accuracy: 0.7171\n",
      "Epoch 21/50\n",
      "20000/20000 [==============================] - 7s 345us/step - loss: 0.0041 - accuracy: 0.9955 - val_loss: 0.2301 - val_accuracy: 0.7491\n",
      "Epoch 22/50\n",
      "20000/20000 [==============================] - 7s 356us/step - loss: 0.0038 - accuracy: 0.9962 - val_loss: 0.2323 - val_accuracy: 0.7455\n",
      "Epoch 23/50\n",
      "20000/20000 [==============================] - 7s 362us/step - loss: 0.0039 - accuracy: 0.9959 - val_loss: 0.2346 - val_accuracy: 0.7404\n",
      "Epoch 24/50\n",
      "20000/20000 [==============================] - 9s 427us/step - loss: 0.0044 - accuracy: 0.9954 - val_loss: 0.2362 - val_accuracy: 0.7394\n",
      "Epoch 25/50\n",
      "20000/20000 [==============================] - 7s 352us/step - loss: 0.0042 - accuracy: 0.9955 - val_loss: 0.2388 - val_accuracy: 0.7361\n",
      "Epoch 26/50\n",
      "20000/20000 [==============================] - 7s 346us/step - loss: 0.0038 - accuracy: 0.9961 - val_loss: 0.2544 - val_accuracy: 0.7079\n",
      "Epoch 27/50\n",
      "20000/20000 [==============================] - 7s 339us/step - loss: 0.0035 - accuracy: 0.9966 - val_loss: 0.2342 - val_accuracy: 0.7430\n",
      "Epoch 28/50\n",
      "20000/20000 [==============================] - 7s 343us/step - loss: 0.0038 - accuracy: 0.9961 - val_loss: 0.2441 - val_accuracy: 0.7288\n",
      "Epoch 29/50\n",
      "20000/20000 [==============================] - 7s 342us/step - loss: 0.0038 - accuracy: 0.9962 - val_loss: 0.2342 - val_accuracy: 0.7461\n",
      "Epoch 30/50\n",
      "20000/20000 [==============================] - 7s 343us/step - loss: 0.0038 - accuracy: 0.9962 - val_loss: 0.2368 - val_accuracy: 0.7423\n",
      "Epoch 31/50\n",
      "20000/20000 [==============================] - 7s 341us/step - loss: 0.0045 - accuracy: 0.9954 - val_loss: 0.2350 - val_accuracy: 0.7465\n",
      "Epoch 32/50\n",
      "20000/20000 [==============================] - 7s 340us/step - loss: 0.0036 - accuracy: 0.9962 - val_loss: 0.2676 - val_accuracy: 0.6977\n",
      "Epoch 33/50\n",
      "20000/20000 [==============================] - 7s 364us/step - loss: 0.0040 - accuracy: 0.9959 - val_loss: 0.2377 - val_accuracy: 0.7396\n",
      "Epoch 34/50\n",
      "20000/20000 [==============================] - 8s 381us/step - loss: 0.0036 - accuracy: 0.9963 - val_loss: 0.2360 - val_accuracy: 0.7463\n",
      "Epoch 35/50\n",
      "20000/20000 [==============================] - 9s 466us/step - loss: 0.0036 - accuracy: 0.9961 - val_loss: 0.2356 - val_accuracy: 0.7461\n",
      "Epoch 36/50\n",
      "20000/20000 [==============================] - 7s 358us/step - loss: 0.0046 - accuracy: 0.9950 - val_loss: 0.2340 - val_accuracy: 0.7456\n",
      "Epoch 37/50\n",
      "20000/20000 [==============================] - 7s 352us/step - loss: 0.0031 - accuracy: 0.9969 - val_loss: 0.2371 - val_accuracy: 0.7429\n",
      "Epoch 38/50\n",
      "20000/20000 [==============================] - 7s 348us/step - loss: 0.0038 - accuracy: 0.9960 - val_loss: 0.2387 - val_accuracy: 0.7440\n",
      "Epoch 39/50\n",
      "20000/20000 [==============================] - 7s 349us/step - loss: 0.0030 - accuracy: 0.9968 - val_loss: 0.2379 - val_accuracy: 0.7432\n",
      "Epoch 40/50\n",
      "20000/20000 [==============================] - 7s 350us/step - loss: 0.0028 - accuracy: 0.9972 - val_loss: 0.2403 - val_accuracy: 0.7414\n",
      "Epoch 41/50\n",
      "20000/20000 [==============================] - 8s 376us/step - loss: 0.0030 - accuracy: 0.9970 - val_loss: 0.2383 - val_accuracy: 0.7420\n",
      "Epoch 42/50\n",
      "20000/20000 [==============================] - 8s 391us/step - loss: 0.0028 - accuracy: 0.9973 - val_loss: 0.2380 - val_accuracy: 0.7448\n",
      "Epoch 43/50\n",
      "20000/20000 [==============================] - 7s 362us/step - loss: 0.0028 - accuracy: 0.9973 - val_loss: 0.2422 - val_accuracy: 0.7400\n",
      "Epoch 44/50\n",
      "20000/20000 [==============================] - 7s 351us/step - loss: 0.0029 - accuracy: 0.9971 - val_loss: 0.2380 - val_accuracy: 0.7430\n",
      "Epoch 45/50\n",
      "20000/20000 [==============================] - 7s 345us/step - loss: 0.0027 - accuracy: 0.9973 - val_loss: 0.2431 - val_accuracy: 0.7397\n",
      "Epoch 46/50\n",
      "20000/20000 [==============================] - 7s 348us/step - loss: 0.0028 - accuracy: 0.9972 - val_loss: 0.2387 - val_accuracy: 0.7465\n",
      "Epoch 47/50\n",
      "20000/20000 [==============================] - 7s 341us/step - loss: 0.0027 - accuracy: 0.9973 - val_loss: 0.2406 - val_accuracy: 0.7465\n",
      "Epoch 48/50\n",
      "20000/20000 [==============================] - 7s 353us/step - loss: 0.0027 - accuracy: 0.9973 - val_loss: 0.2418 - val_accuracy: 0.7436\n",
      "Epoch 49/50\n",
      "20000/20000 [==============================] - 7s 342us/step - loss: 0.0027 - accuracy: 0.9973 - val_loss: 0.2398 - val_accuracy: 0.7484\n",
      "Epoch 50/50\n",
      "20000/20000 [==============================] - 7s 347us/step - loss: 0.0027 - accuracy: 0.9973 - val_loss: 0.2404 - val_accuracy: 0.7477\n",
      "73913/73913 [==============================] - 29s 394us/step\n"
     ]
    }
   ],
   "source": [
    "x_val = x_train[170000:190000]\n",
    "partial_x_train = x_train[50000:70000]\n",
    "y_val = y_train[170000:190000]\n",
    "partial_y_train = y_train[50000:70000]\n",
    "\n",
    "model4 = models.Sequential()\n",
    "model4.compile(optimizer='rmsprop',\n",
    "              loss='mse',\n",
    "              metrics=['accuracy'])\n",
    "model4.add(layers.Dense(256, activation='relu', input_shape=(10000,)))\n",
    "model4.add(layers.Dense(32, activation='relu'))\n",
    "model4.add(layers.Dense(1, activation='sigmoid'))\n",
    "\n",
    "history4 = model4.fit(partial_x_train,\n",
    "                    partial_y_train,\n",
    "                    epochs=50,\n",
    "                    batch_size=128,\n",
    "                    validation_data=(x_val, y_val))\n",
    "results4 = model4.evaluate(x_test, y_test)"
   ]
  },
  {
   "cell_type": "code",
   "execution_count": 67,
   "metadata": {},
   "outputs": [
    {
     "data": {
      "text/plain": [
       "[0.238380039151781, 0.7493133544921875]"
      ]
     },
     "execution_count": 67,
     "metadata": {},
     "output_type": "execute_result"
    }
   ],
   "source": [
    "results4"
   ]
  },
  {
   "cell_type": "code",
   "execution_count": 91,
   "metadata": {},
   "outputs": [],
   "source": [
    "from keras.models import load_model\n",
    "model1 = load_model('spoiler_detect_model.h5')"
   ]
  },
  {
   "cell_type": "code",
   "execution_count": 155,
   "metadata": {},
   "outputs": [],
   "source": [
    "a = \"Iron Man will die\"\n",
    "b = \"Tommy kill his friend end of this movie. many people dead\"\n",
    "c = \"I cried throughout the movie\"\n",
    "d = \"Blue team will win\"\n",
    "e = \"Frank finally escape the island\"\n",
    "f = \"This movie is very bad. I hate it very much\"\n",
    "rvs = [a,b,c,d,e,f]"
   ]
  },
  {
   "cell_type": "code",
   "execution_count": 156,
   "metadata": {},
   "outputs": [],
   "source": [
    "import numpy as np\n",
    "def vectorize_sequences(sequences, dimension=10000):\n",
    "    # 크기가 (len(sequences), dimension))이고 모든 원소가 0인 행렬을 만듭니다\n",
    "    results = np.zeros((len(sequences), dimension))\n",
    "    for i, sequence in enumerate(sequences):\n",
    "        results[i, sequence] = 1.  # results[i]에서 특정 인덱스의 위치를 1로 만듭니다\n",
    "    return results\n",
    "x = remove_values_from_list(tokenizer.texts_to_sequences(rvs),None)\n",
    "x_t = vectorize_sequences(x)\n"
   ]
  },
  {
   "cell_type": "code",
   "execution_count": 108,
   "metadata": {},
   "outputs": [],
   "source": [
    "# 훈련 데이터를 벡터로 변환합니다\n",
    "x_train = vectorize_sequences(train_data)\n",
    "# 테스트 데이터를 벡터로 변환합니다\n",
    "x_test = vectorize_sequences(test_data)\n",
    "\n",
    "\n",
    "y_train = np.asarray(train_labels).astype('float32')\n",
    "y_test = np.asarray(test_labels).astype('float32')\n",
    "\n",
    "test_num = 400000\n",
    "x_val = x_train[test_num:]\n",
    "partial_x_train = x_train[:test_num]\n",
    "y_val = y_train[test_num:]\n",
    "partial_y_train = y_train[:test_num]"
   ]
  },
  {
   "cell_type": "code",
   "execution_count": 116,
   "metadata": {
    "scrolled": true
   },
   "outputs": [
    {
     "name": "stdout",
     "output_type": "stream",
     "text": [
      "Train on 400000 samples, validate on 100000 samples\n",
      "Epoch 1/50\n",
      "400000/400000 [==============================] - 191s 477us/step - loss: 0.4917 - accuracy: 0.7743 - val_loss: 0.4764 - val_accuracy: 0.7845\n",
      "Epoch 2/50\n",
      "400000/400000 [==============================] - 198s 494us/step - loss: 0.4564 - accuracy: 0.7945 - val_loss: 0.4753 - val_accuracy: 0.7852\n",
      "Epoch 3/50\n",
      "400000/400000 [==============================] - 196s 490us/step - loss: 0.4181 - accuracy: 0.8164 - val_loss: 0.4911 - val_accuracy: 0.7825\n",
      "Epoch 4/50\n",
      "400000/400000 [==============================] - 195s 487us/step - loss: 0.3465 - accuracy: 0.8554 - val_loss: 0.5416 - val_accuracy: 0.7700\n",
      "Epoch 5/50\n",
      "400000/400000 [==============================] - 194s 485us/step - loss: 0.2547 - accuracy: 0.8995 - val_loss: 0.6379 - val_accuracy: 0.7610\n",
      "Epoch 6/50\n",
      "400000/400000 [==============================] - 192s 481us/step - loss: 0.1728 - accuracy: 0.9360 - val_loss: 0.7902 - val_accuracy: 0.7483\n",
      "Epoch 7/50\n",
      "400000/400000 [==============================] - 193s 481us/step - loss: 0.1118 - accuracy: 0.9610 - val_loss: 0.9089 - val_accuracy: 0.7417\n",
      "Epoch 8/50\n",
      "400000/400000 [==============================] - 192s 481us/step - loss: 0.0693 - accuracy: 0.9774 - val_loss: 1.0984 - val_accuracy: 0.7425\n",
      "Epoch 9/50\n",
      "400000/400000 [==============================] - 193s 482us/step - loss: 0.0426 - accuracy: 0.9869 - val_loss: 1.3044 - val_accuracy: 0.7155\n",
      "Epoch 10/50\n",
      "400000/400000 [==============================] - 190s 474us/step - loss: 0.0270 - accuracy: 0.9923 - val_loss: 1.5451 - val_accuracy: 0.7421\n",
      "Epoch 11/50\n",
      "400000/400000 [==============================] - 198s 495us/step - loss: 0.0178 - accuracy: 0.9953 - val_loss: 1.6784 - val_accuracy: 0.7234\n",
      "Epoch 12/50\n",
      "400000/400000 [==============================] - 230s 575us/step - loss: 0.0126 - accuracy: 0.9969 - val_loss: 1.8159 - val_accuracy: 0.7261\n",
      "Epoch 13/50\n",
      "400000/400000 [==============================] - 205s 512us/step - loss: 0.0104 - accuracy: 0.9975 - val_loss: 1.9970 - val_accuracy: 0.7369\n",
      "Epoch 14/50\n",
      "400000/400000 [==============================] - 203s 507us/step - loss: 0.0084 - accuracy: 0.9981 - val_loss: 2.0998 - val_accuracy: 0.7071\n",
      "Epoch 15/50\n",
      "400000/400000 [==============================] - 205s 513us/step - loss: 0.0080 - accuracy: 0.9982 - val_loss: 2.2020 - val_accuracy: 0.7166\n",
      "Epoch 16/50\n",
      "400000/400000 [==============================] - 209s 522us/step - loss: 0.0067 - accuracy: 0.9984 - val_loss: 2.2948 - val_accuracy: 0.7174\n",
      "Epoch 17/50\n",
      "400000/400000 [==============================] - 209s 522us/step - loss: 0.0065 - accuracy: 0.9985 - val_loss: 2.2990 - val_accuracy: 0.7261\n",
      "Epoch 18/50\n",
      "400000/400000 [==============================] - 202s 504us/step - loss: 0.0070 - accuracy: 0.9984 - val_loss: 2.3216 - val_accuracy: 0.7014\n",
      "Epoch 19/50\n",
      "400000/400000 [==============================] - 204s 510us/step - loss: 0.0075 - accuracy: 0.9982 - val_loss: 2.3663 - val_accuracy: 0.7188\n",
      "Epoch 20/50\n",
      "400000/400000 [==============================] - 196s 490us/step - loss: 0.0066 - accuracy: 0.9985 - val_loss: 2.4086 - val_accuracy: 0.7141\n",
      "Epoch 21/50\n",
      "400000/400000 [==============================] - 208s 520us/step - loss: 0.0069 - accuracy: 0.9984 - val_loss: 2.5439 - val_accuracy: 0.7101\n",
      "Epoch 22/50\n",
      "400000/400000 [==============================] - 199s 497us/step - loss: 0.0069 - accuracy: 0.9982 - val_loss: 2.5185 - val_accuracy: 0.7102\n",
      "Epoch 23/50\n",
      "400000/400000 [==============================] - 202s 504us/step - loss: 0.0063 - accuracy: 0.9985 - val_loss: 2.5559 - val_accuracy: 0.7005\n",
      "Epoch 24/50\n",
      "400000/400000 [==============================] - 201s 502us/step - loss: 0.0068 - accuracy: 0.9983 - val_loss: 2.5832 - val_accuracy: 0.7108\n",
      "Epoch 25/50\n",
      "400000/400000 [==============================] - 198s 494us/step - loss: 0.0055 - accuracy: 0.9986 - val_loss: 2.5880 - val_accuracy: 0.7083\n",
      "Epoch 26/50\n",
      "400000/400000 [==============================] - 193s 482us/step - loss: 0.0066 - accuracy: 0.9983 - val_loss: 2.5940 - val_accuracy: 0.7103\n",
      "Epoch 27/50\n",
      "400000/400000 [==============================] - 194s 484us/step - loss: 0.0062 - accuracy: 0.9984 - val_loss: 2.6368 - val_accuracy: 0.7185\n",
      "Epoch 28/50\n",
      "400000/400000 [==============================] - 193s 482us/step - loss: 0.0058 - accuracy: 0.9986 - val_loss: 2.7985 - val_accuracy: 0.7033\n",
      "Epoch 29/50\n",
      "400000/400000 [==============================] - 193s 482us/step - loss: 0.0052 - accuracy: 0.9987 - val_loss: 2.8078 - val_accuracy: 0.6980\n",
      "Epoch 30/50\n",
      "400000/400000 [==============================] - 192s 481us/step - loss: 0.0045 - accuracy: 0.9990 - val_loss: 2.8331 - val_accuracy: 0.7040\n",
      "Epoch 31/50\n",
      "400000/400000 [==============================] - 194s 486us/step - loss: 0.0050 - accuracy: 0.9988 - val_loss: 2.7653 - val_accuracy: 0.7145\n",
      "Epoch 32/50\n",
      "400000/400000 [==============================] - 199s 498us/step - loss: 0.0044 - accuracy: 0.9990 - val_loss: 3.0669 - val_accuracy: 0.7005\n",
      "Epoch 33/50\n",
      "400000/400000 [==============================] - 196s 490us/step - loss: 0.0041 - accuracy: 0.9991 - val_loss: 2.9818 - val_accuracy: 0.7017\n",
      "Epoch 34/50\n",
      "400000/400000 [==============================] - 195s 487us/step - loss: 0.0041 - accuracy: 0.9991 - val_loss: 2.9643 - val_accuracy: 0.7081\n",
      "Epoch 35/50\n",
      "400000/400000 [==============================] - 193s 484us/step - loss: 0.0039 - accuracy: 0.9991 - val_loss: 3.1647 - val_accuracy: 0.7051\n",
      "Epoch 36/50\n",
      "400000/400000 [==============================] - 198s 495us/step - loss: 0.0038 - accuracy: 0.9991 - val_loss: 3.1770 - val_accuracy: 0.6998\n",
      "Epoch 37/50\n",
      "400000/400000 [==============================] - 196s 489us/step - loss: 0.0039 - accuracy: 0.9991 - val_loss: 3.1405 - val_accuracy: 0.7082\n",
      "Epoch 38/50\n",
      "400000/400000 [==============================] - 198s 495us/step - loss: 0.0038 - accuracy: 0.9991 - val_loss: 3.2974 - val_accuracy: 0.6948\n",
      "Epoch 39/50\n",
      "400000/400000 [==============================] - 195s 487us/step - loss: 0.0039 - accuracy: 0.9991 - val_loss: 3.3216 - val_accuracy: 0.6985\n",
      "Epoch 40/50\n",
      "400000/400000 [==============================] - 195s 486us/step - loss: 0.0039 - accuracy: 0.9991 - val_loss: 3.2579 - val_accuracy: 0.7026\n",
      "Epoch 41/50\n",
      "400000/400000 [==============================] - 211s 527us/step - loss: 0.0035 - accuracy: 0.9992 - val_loss: 3.4500 - val_accuracy: 0.7004\n",
      "Epoch 42/50\n",
      "400000/400000 [==============================] - 199s 498us/step - loss: 0.0040 - accuracy: 0.9990 - val_loss: 3.3349 - val_accuracy: 0.7005\n",
      "Epoch 43/50\n",
      "400000/400000 [==============================] - 202s 504us/step - loss: 0.0034 - accuracy: 0.9992 - val_loss: 3.5457 - val_accuracy: 0.7043\n",
      "Epoch 44/50\n",
      "400000/400000 [==============================] - 200s 501us/step - loss: 0.0038 - accuracy: 0.9991 - val_loss: 3.7093 - val_accuracy: 0.6884\n",
      "Epoch 45/50\n",
      "400000/400000 [==============================] - 195s 488us/step - loss: 0.0033 - accuracy: 0.9993 - val_loss: 3.7552 - val_accuracy: 0.6921\n",
      "Epoch 46/50\n",
      "400000/400000 [==============================] - 195s 488us/step - loss: 0.0036 - accuracy: 0.9991 - val_loss: 3.5778 - val_accuracy: 0.6939\n",
      "Epoch 47/50\n",
      "400000/400000 [==============================] - 198s 494us/step - loss: 0.0031 - accuracy: 0.9993 - val_loss: 3.6253 - val_accuracy: 0.7002\n",
      "Epoch 48/50\n",
      "400000/400000 [==============================] - 198s 495us/step - loss: 0.0035 - accuracy: 0.9992 - val_loss: 4.1667 - val_accuracy: 0.6751\n",
      "Epoch 49/50\n",
      "400000/400000 [==============================] - 196s 490us/step - loss: 0.0037 - accuracy: 0.9991 - val_loss: 4.0628 - val_accuracy: 0.6659\n",
      "Epoch 50/50\n",
      "400000/400000 [==============================] - 200s 500us/step - loss: 0.0033 - accuracy: 0.9992 - val_loss: 3.9037 - val_accuracy: 0.6988\n",
      "73913/73913 [==============================] - 26s 348us/step\n"
     ]
    }
   ],
   "source": [
    "\n",
    "\n",
    "import matplotlib.pyplot as plt\n",
    "\n",
    "from keras import models\n",
    "from keras import layers\n",
    "model4 = models.Sequential()\n",
    "\n",
    "model4.compile(optimizer='rmsprop',\n",
    "              loss='binary_crossentropy',\n",
    "              metrics=['accuracy'])\n",
    "\n",
    "model4.add(layers.Dense(256, activation='relu', input_shape=(10000,)))\n",
    "model4.add(layers.Dense(32, activation='relu'))\n",
    "model4.add(layers.Dense(1, activation='sigmoid'))\n",
    "\n",
    "\n",
    "\n",
    "history4 = model4.fit(partial_x_train,\n",
    "                    partial_y_train,\n",
    "                    epochs=50,\n",
    "                    batch_size=512,\n",
    "                    validation_data=(x_val, y_val))\n",
    "results4 = model4.evaluate(x_test, y_test)"
   ]
  },
  {
   "cell_type": "code",
   "execution_count": 161,
   "metadata": {},
   "outputs": [
    {
     "name": "stdout",
     "output_type": "stream",
     "text": [
      "Review: Iron Man will die\n",
      " -> Is spoiler? : yes\n",
      "Review: Tommy kill his friend end of this movie. many people dead\n",
      " -> Is spoiler? : yes\n",
      "Review: I cried throughout the movie\n",
      " -> Is spoiler? : no\n",
      "Review: Blue team will win\n",
      " -> Is spoiler? : yes\n",
      "Review: Frank finally escape the island\n",
      " -> Is spoiler? : yes\n",
      "Review: This movie is very bad. I hate it very much\n",
      " -> Is spoiler? : no\n"
     ]
    }
   ],
   "source": [
    "ps = model3.predict_classes(x_t)\n",
    "for i in range(6):\n",
    "    if(ps[i][0]):\n",
    "        iss = \"yes\" \n",
    "    else: \n",
    "        iss = \"no\"\n",
    "    print(\"Review: \"+ str(rvs[i])+\"\\n -> Is spoiler? : \" + iss)"
   ]
  },
  {
   "cell_type": "code",
   "execution_count": null,
   "metadata": {},
   "outputs": [],
   "source": []
  }
 ],
 "metadata": {
  "kernelspec": {
   "display_name": "Python 3",
   "language": "python",
   "name": "python3"
  },
  "language_info": {
   "codemirror_mode": {
    "name": "ipython",
    "version": 3
   },
   "file_extension": ".py",
   "mimetype": "text/x-python",
   "name": "python",
   "nbconvert_exporter": "python",
   "pygments_lexer": "ipython3",
   "version": "3.7.4"
  }
 },
 "nbformat": 4,
 "nbformat_minor": 2
}
